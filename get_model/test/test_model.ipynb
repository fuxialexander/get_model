{
 "cells": [
  {
   "cell_type": "code",
   "execution_count": 1,
   "metadata": {},
   "outputs": [
    {
     "name": "stderr",
     "output_type": "stream",
     "text": [
      "/pmglocal/ty2514/GET_STARTED/mambaforge/get_started/lib/python3.10/site-packages/pandas/core/computation/expressions.py:21: UserWarning: Pandas requires version '2.8.0' or newer of 'numexpr' (version '2.7.3' currently installed).\n",
      "  from pandas.core.computation.check import NUMEXPR_INSTALLED\n"
     ]
    }
   ],
   "source": [
    "from get_model.model.model import GETFinetuneAuto\n",
    "import torch.nn.functional as F\n",
    "from torch import nn\n",
    "import torch\n",
    "from timm import create_model"
   ]
  },
  {
   "cell_type": "code",
   "execution_count": 56,
   "metadata": {},
   "outputs": [],
   "source": [
    "class motif2seqScanner(nn.Module):\n",
    "    \"\"\"\n",
    "    A motif decoder based on Conv1D to transform motif embeddings to sequence representations. [BATCH_SIZE, SEQ_LEN, MOTIF] -> [BATCH_SIZE, SEQ_LEN, 4]\n",
    "    \"\"\"\n",
    "    def __init__(self, motif_dim, hidden_dim, output_dim=4):\n",
    "        super(motif2seqScanner, self).__init__()\n",
    "\n",
    "        # Ensure that padding is set to maintain SEQ_LEN consistency across transformations\n",
    "        self.conv1 = nn.Conv1d(motif_dim, hidden_dim, kernel_size=3, padding=1)\n",
    "        self.conv2 = nn.Conv1d(hidden_dim, output_dim, kernel_size=3, padding=1)\n",
    "\n",
    "    def forward(self, x):\n",
    "        # x shape: (BATCH_SIZE, SEQ_LEN, MOTIF_DIM), but Conv1d expects (BATCH_SIZE, MOTIF_DIM, SEQ_LEN)\n",
    "        x = x.transpose(1, 2)  # Transpose to fit Conv1d input requirements\n",
    "\n",
    "        # Apply first Conv1d to get to hidden dimension\n",
    "        x = F.relu(self.conv1(x))\n",
    "\n",
    "        # Apply second Conv1d to get to output dimension (4)\n",
    "        x = self.conv2(x)  # No activation here, assuming the next step involves a softmax or similar\n",
    "\n",
    "        # Revert to (BATCH_SIZE, SEQ_LEN, 4) for consistency with expected output\n",
    "        x = x.transpose(1, 2)\n",
    "        return x\n",
    "dropout = 0.5\n",
    "\n",
    "encoder = nn.Sequential(\n",
    "    # Projection from [B, 1024, 256, 1] -> [B, 16, 4, 64]\n",
    "    nn.Conv2d(1, 2, kernel_size=(2, 2), stride=2),  # Output: [100, 512, 320, 2]\n",
    "    nn.ReLU(),\n",
    "    nn.Dropout2d(dropout),\n",
    "    nn.Conv2d(2, 4, kernel_size=(2, 2), stride=2),  # Output: [100, 256, 160, 4]\n",
    "    nn.ReLU(),\n",
    "    nn.Dropout2d(dropout),\n",
    "    nn.Conv2d(4, 8, kernel_size=(2, 2), stride=2),  # Output: [100, 128, 80, 8]\n",
    "    nn.ReLU(),\n",
    "    nn.Dropout2d(dropout),\n",
    "    nn.Conv2d(8, 16, kernel_size=(2, 2), stride=2),  # Output: [100, 64, 40, 16]\n",
    "    nn.ReLU(),\n",
    "    nn.Dropout2d(dropout),\n",
    "    nn.Conv2d(16, 32, kernel_size=(2, 2), stride=2),  # Output: [100, 32, 20, 32]\n",
    "    nn.ReLU(),\n",
    "    nn.Dropout2d(dropout),\n",
    "    nn.Conv2d(32, 64, kernel_size=(2, 2), stride=2),  # Output: [100, 16, 10, 64]\n",
    "    nn.ReLU(),\n",
    "    nn.Dropout2d(dropout)\n",
    ")\n",
    "\n",
    "decoder = nn.Sequential(\n",
    "    nn.ConvTranspose2d(64, 32, kernel_size=(2, 2), stride=2),  # Output: [100, 32, 20, 32]\n",
    "    nn.ReLU(),\n",
    "    nn.Dropout2d(dropout),\n",
    "    nn.ConvTranspose2d(32, 16, kernel_size=(2, 2), stride=2),  # Output: [100, 64, 40, 16]\n",
    "    nn.ReLU(),\n",
    "    nn.Dropout2d(dropout),\n",
    "    nn.ConvTranspose2d(16, 8, kernel_size=(2, 2), stride=2),  # Output: [100, 128, 80, 8]\n",
    "    nn.ReLU(),\n",
    "    nn.Dropout2d(dropout),\n",
    "    nn.ConvTranspose2d(8, 4, kernel_size=(2, 2), stride=2),  # Output: [100, 256, 160, 4]\n",
    "    nn.ReLU(),\n",
    "    nn.Dropout2d(dropout),\n",
    "    nn.ConvTranspose2d(4, 2, kernel_size=(2, 2), stride=2),  # Output: [100, 512, 320, 2]\n",
    "    nn.ReLU(),\n",
    "    nn.Dropout2d(dropout),\n",
    "    nn.ConvTranspose2d(2, 1, kernel_size=(2, 2), stride=2),  # Output: [100, 1024, 640, 1]\n",
    "    nn.ReLU()\n",
    ")\n",
    "motif_proj = nn.Conv1d(639, 256, 1, bias=True)\n",
    "motifdecoder = motif2seqScanner(639, 639//2, 4)\n"
   ]
  },
  {
   "cell_type": "code",
   "execution_count": 73,
   "metadata": {},
   "outputs": [
    {
     "name": "stdout",
     "output_type": "stream",
     "text": [
      "torch.Size([16, 639, 11240])\n",
      "torch.Size([16, 256, 11240])\n",
      "torch.Size([16, 1, 256, 11240])\n"
     ]
    }
   ],
   "source": [
    "x = torch.randn([16, 11240, 639])\n",
    "x = x.transpose(1, 2)  # Now x has shape [128, 639, 1024]\n",
    "print(x.shape)\n",
    "x = motif_proj(x)\n",
    "print(x.shape)\n",
    "x = x.unsqueeze(1)  # Add channel dimension: [16, 1, 256, 1024]\n",
    "print(x.shape)"
   ]
  },
  {
   "cell_type": "code",
   "execution_count": 72,
   "metadata": {},
   "outputs": [
    {
     "name": "stdout",
     "output_type": "stream",
     "text": [
      "torch.Size([16, 64, 4, 171])\n",
      "torch.Size([16, 1, 256, 10944])\n",
      "torch.Size([16, 639, 10944])\n",
      "torch.Size([16, 4, 10944])\n"
     ]
    }
   ],
   "source": [
    "latent = encoder(x)\n",
    "print(latent.shape)\n",
    "output = decoder(latent)\n",
    "print(output.shape)\n",
    "output = output.squeeze(1)\n",
    "#print(output.shape)\n",
    "motif_proj_back = nn.Conv1d(in_channels=256, out_channels=639, kernel_size=1,bias=True)\n",
    "reformed_x = motif_proj_back(output)\n",
    "print(reformed_x.shape)\n",
    "output_x = motifdecoder(reformed_x.transpose(1,2))\n",
    "#print(result.shape)\n",
    "print(output_x.transpose(1,2).shape)"
   ]
  }
 ],
 "metadata": {
  "kernelspec": {
   "display_name": "Python 3",
   "language": "python",
   "name": "python3"
  },
  "language_info": {
   "codemirror_mode": {
    "name": "ipython",
    "version": 3
   },
   "file_extension": ".py",
   "mimetype": "text/x-python",
   "name": "python",
   "nbconvert_exporter": "python",
   "pygments_lexer": "ipython3",
   "version": "3.10.8"
  }
 },
 "nbformat": 4,
 "nbformat_minor": 2
}
